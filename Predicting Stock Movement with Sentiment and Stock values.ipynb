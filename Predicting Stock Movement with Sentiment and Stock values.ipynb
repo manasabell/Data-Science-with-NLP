{
 "cells": [
  {
   "cell_type": "code",
   "execution_count": 1,
   "metadata": {},
   "outputs": [],
   "source": [
    "import pandas as pd\n",
    "import numpy as np\n",
    "import warnings\n",
    "from pandas import read_csv, set_option\n",
    "from pandas import Series, datetime\n",
    "from sklearn.metrics import classification_report, confusion_matrix, accuracy_score, mean_squared_error\n",
    "from sklearn.linear_model import LogisticRegression\n",
    "from sklearn.metrics import roc_curve, auc\n",
    "import matplotlib\n",
    "import matplotlib.pyplot as plt\n",
    "import xgboost as xgb\n",
    "from sklearn.metrics import mean_squared_error\n",
    "from xgboost import XGBClassifier\n",
    "import seaborn as sns"
   ]
  },
  {
   "cell_type": "code",
   "execution_count": 2,
   "metadata": {},
   "outputs": [
    {
     "data": {
      "text/html": [
       "<div>\n",
       "<style scoped>\n",
       "    .dataframe tbody tr th:only-of-type {\n",
       "        vertical-align: middle;\n",
       "    }\n",
       "\n",
       "    .dataframe tbody tr th {\n",
       "        vertical-align: top;\n",
       "    }\n",
       "\n",
       "    .dataframe thead th {\n",
       "        text-align: right;\n",
       "    }\n",
       "</style>\n",
       "<table border=\"1\" class=\"dataframe\">\n",
       "  <thead>\n",
       "    <tr style=\"text-align: right;\">\n",
       "      <th></th>\n",
       "      <th>Date</th>\n",
       "      <th>Open</th>\n",
       "      <th>High</th>\n",
       "      <th>Low</th>\n",
       "      <th>Close</th>\n",
       "      <th>Volume</th>\n",
       "      <th>Adj Close</th>\n",
       "      <th>start_trend</th>\n",
       "    </tr>\n",
       "  </thead>\n",
       "  <tbody>\n",
       "    <tr>\n",
       "      <th>0</th>\n",
       "      <td>2008-08-08</td>\n",
       "      <td>11432.08984</td>\n",
       "      <td>11759.95996</td>\n",
       "      <td>11388.04004</td>\n",
       "      <td>11734.32031</td>\n",
       "      <td>212830000</td>\n",
       "      <td>11734.32031</td>\n",
       "      <td>0</td>\n",
       "    </tr>\n",
       "    <tr>\n",
       "      <th>1</th>\n",
       "      <td>2008-08-11</td>\n",
       "      <td>11729.66992</td>\n",
       "      <td>11867.11035</td>\n",
       "      <td>11675.53027</td>\n",
       "      <td>11782.34961</td>\n",
       "      <td>183190000</td>\n",
       "      <td>11782.34961</td>\n",
       "      <td>0</td>\n",
       "    </tr>\n",
       "    <tr>\n",
       "      <th>2</th>\n",
       "      <td>2008-08-12</td>\n",
       "      <td>11781.70020</td>\n",
       "      <td>11782.34961</td>\n",
       "      <td>11601.51953</td>\n",
       "      <td>11642.46973</td>\n",
       "      <td>173590000</td>\n",
       "      <td>11642.46973</td>\n",
       "      <td>0</td>\n",
       "    </tr>\n",
       "    <tr>\n",
       "      <th>3</th>\n",
       "      <td>2008-08-13</td>\n",
       "      <td>11632.80957</td>\n",
       "      <td>11633.78027</td>\n",
       "      <td>11453.33984</td>\n",
       "      <td>11532.95996</td>\n",
       "      <td>182550000</td>\n",
       "      <td>11532.95996</td>\n",
       "      <td>0</td>\n",
       "    </tr>\n",
       "    <tr>\n",
       "      <th>4</th>\n",
       "      <td>2008-08-14</td>\n",
       "      <td>11532.07031</td>\n",
       "      <td>11718.28027</td>\n",
       "      <td>11450.88965</td>\n",
       "      <td>11615.92969</td>\n",
       "      <td>159790000</td>\n",
       "      <td>11615.92969</td>\n",
       "      <td>0</td>\n",
       "    </tr>\n",
       "  </tbody>\n",
       "</table>\n",
       "</div>"
      ],
      "text/plain": [
       "        Date         Open         High          Low        Close     Volume  \\\n",
       "0 2008-08-08  11432.08984  11759.95996  11388.04004  11734.32031  212830000   \n",
       "1 2008-08-11  11729.66992  11867.11035  11675.53027  11782.34961  183190000   \n",
       "2 2008-08-12  11781.70020  11782.34961  11601.51953  11642.46973  173590000   \n",
       "3 2008-08-13  11632.80957  11633.78027  11453.33984  11532.95996  182550000   \n",
       "4 2008-08-14  11532.07031  11718.28027  11450.88965  11615.92969  159790000   \n",
       "\n",
       "     Adj Close  start_trend  \n",
       "0  11734.32031            0  \n",
       "1  11782.34961            0  \n",
       "2  11642.46973            0  \n",
       "3  11532.95996            0  \n",
       "4  11615.92969            0  "
      ]
     },
     "execution_count": 2,
     "metadata": {},
     "output_type": "execute_result"
    }
   ],
   "source": [
    "# Load the stock prices dataset into a dataframe and check the top 5 rows\n",
    "stock_prices = \"DJIA_table_with_start.csv\"\n",
    "stock_data = pd.read_csv(stock_prices, parse_dates=[0])\n",
    "stock_data.head()"
   ]
  },
  {
   "cell_type": "code",
   "execution_count": 3,
   "metadata": {},
   "outputs": [
    {
     "name": "stderr",
     "output_type": "stream",
     "text": [
      "[nltk_data] Downloading package vader_lexicon to\n",
      "[nltk_data]     C:\\Users\\arupatil\\AppData\\Roaming\\nltk_data...\n",
      "[nltk_data]   Package vader_lexicon is already up-to-date!\n"
     ]
    },
    {
     "data": {
      "text/plain": [
       "True"
      ]
     },
     "execution_count": 3,
     "metadata": {},
     "output_type": "execute_result"
    }
   ],
   "source": [
    "import nltk\n",
    "nltk.download('vader_lexicon')"
   ]
  },
  {
   "cell_type": "markdown",
   "metadata": {},
   "source": [
    "Next, we perform sentiment analysis using Vader library. The process takes couple of hours so the data has been stored to a .csv file and combined with the dataset. "
   ]
  },
  {
   "cell_type": "code",
   "execution_count": 4,
   "metadata": {},
   "outputs": [
    {
     "data": {
      "text/html": [
       "<div>\n",
       "<style scoped>\n",
       "    .dataframe tbody tr th:only-of-type {\n",
       "        vertical-align: middle;\n",
       "    }\n",
       "\n",
       "    .dataframe tbody tr th {\n",
       "        vertical-align: top;\n",
       "    }\n",
       "\n",
       "    .dataframe thead th {\n",
       "        text-align: right;\n",
       "    }\n",
       "</style>\n",
       "<table border=\"1\" class=\"dataframe\">\n",
       "  <thead>\n",
       "    <tr style=\"text-align: right;\">\n",
       "      <th></th>\n",
       "      <th>Date</th>\n",
       "      <th>Label</th>\n",
       "      <th>Top1</th>\n",
       "      <th>Top2</th>\n",
       "      <th>Top3</th>\n",
       "      <th>Top4</th>\n",
       "      <th>Top5</th>\n",
       "      <th>Top6</th>\n",
       "      <th>Top7</th>\n",
       "      <th>Top8</th>\n",
       "      <th>...</th>\n",
       "      <th>Top23 neutral</th>\n",
       "      <th>Top23 negative</th>\n",
       "      <th>Top24 CompoundValue</th>\n",
       "      <th>Top24 positive</th>\n",
       "      <th>Top24 neutral</th>\n",
       "      <th>Top24 negative</th>\n",
       "      <th>Top25 CompoundValue</th>\n",
       "      <th>Top25 positive</th>\n",
       "      <th>Top25 neutral</th>\n",
       "      <th>Top25 negative</th>\n",
       "    </tr>\n",
       "  </thead>\n",
       "  <tbody>\n",
       "    <tr>\n",
       "      <th>0</th>\n",
       "      <td>2008-08-08</td>\n",
       "      <td>0</td>\n",
       "      <td>b\"Georgia 'downs two Russian warplanes' as cou...</td>\n",
       "      <td>b'BREAKING: Musharraf to be impeached.'</td>\n",
       "      <td>b'Russia Today: Columns of troops roll into So...</td>\n",
       "      <td>b'Russian tanks are moving towards the capital...</td>\n",
       "      <td>b\"Afghan children raped with 'impunity,' U.N. ...</td>\n",
       "      <td>b'150 Russian tanks have entered South Ossetia...</td>\n",
       "      <td>b\"Breaking: Georgia invades South Ossetia, Rus...</td>\n",
       "      <td>b\"The 'enemy combatent' trials are nothing but...</td>\n",
       "      <td>...</td>\n",
       "      <td>0.860</td>\n",
       "      <td>0.140</td>\n",
       "      <td>-0.8519</td>\n",
       "      <td>0.000</td>\n",
       "      <td>0.350</td>\n",
       "      <td>0.650</td>\n",
       "      <td>0.4019</td>\n",
       "      <td>0.351</td>\n",
       "      <td>0.649</td>\n",
       "      <td>0.000</td>\n",
       "    </tr>\n",
       "    <tr>\n",
       "      <th>1</th>\n",
       "      <td>2008-08-11</td>\n",
       "      <td>1</td>\n",
       "      <td>b'Why wont America and Nato help us? If they w...</td>\n",
       "      <td>b'Bush puts foot down on Georgian conflict'</td>\n",
       "      <td>b\"Jewish Georgian minister: Thanks to Israeli ...</td>\n",
       "      <td>b'Georgian army flees in disarray as Russians ...</td>\n",
       "      <td>b\"Olympic opening ceremony fireworks 'faked'\"</td>\n",
       "      <td>b'What were the Mossad with fraudulent New Zea...</td>\n",
       "      <td>b'Russia angered by Israeli military sale to G...</td>\n",
       "      <td>b'An American citizen living in S.Ossetia blam...</td>\n",
       "      <td>...</td>\n",
       "      <td>0.753</td>\n",
       "      <td>0.247</td>\n",
       "      <td>-0.1832</td>\n",
       "      <td>0.263</td>\n",
       "      <td>0.414</td>\n",
       "      <td>0.323</td>\n",
       "      <td>0.0000</td>\n",
       "      <td>0.000</td>\n",
       "      <td>1.000</td>\n",
       "      <td>0.000</td>\n",
       "    </tr>\n",
       "    <tr>\n",
       "      <th>2</th>\n",
       "      <td>2008-08-12</td>\n",
       "      <td>0</td>\n",
       "      <td>b'Remember that adorable 9-year-old who sang a...</td>\n",
       "      <td>b\"Russia 'ends Georgia operation'\"</td>\n",
       "      <td>b'\"If we had no sexual harassment we would hav...</td>\n",
       "      <td>b\"Al-Qa'eda is losing support in Iraq because ...</td>\n",
       "      <td>b'Ceasefire in Georgia: Putin Outmaneuvers the...</td>\n",
       "      <td>b'Why Microsoft and Intel tried to kill the XO...</td>\n",
       "      <td>b'Stratfor: The Russo-Georgian War and the Bal...</td>\n",
       "      <td>b\"I'm Trying to Get a Sense of This Whole Geor...</td>\n",
       "      <td>...</td>\n",
       "      <td>0.785</td>\n",
       "      <td>0.074</td>\n",
       "      <td>0.0000</td>\n",
       "      <td>0.000</td>\n",
       "      <td>1.000</td>\n",
       "      <td>0.000</td>\n",
       "      <td>0.0000</td>\n",
       "      <td>0.000</td>\n",
       "      <td>1.000</td>\n",
       "      <td>0.000</td>\n",
       "    </tr>\n",
       "    <tr>\n",
       "      <th>3</th>\n",
       "      <td>2008-08-13</td>\n",
       "      <td>0</td>\n",
       "      <td>b' U.S. refuses Israel weapons to attack Iran:...</td>\n",
       "      <td>b\"When the president ordered to attack Tskhinv...</td>\n",
       "      <td>b' Israel clears troops who killed Reuters cam...</td>\n",
       "      <td>b'Britain\\'s policy of being tough on drugs is...</td>\n",
       "      <td>b'Body of 14 year old found in trunk; Latest (...</td>\n",
       "      <td>b'China has moved 10 *million* quake survivors...</td>\n",
       "      <td>b\"Bush announces Operation Get All Up In Russi...</td>\n",
       "      <td>b'Russian forces sink Georgian ships '</td>\n",
       "      <td>...</td>\n",
       "      <td>0.598</td>\n",
       "      <td>0.402</td>\n",
       "      <td>-0.4215</td>\n",
       "      <td>0.000</td>\n",
       "      <td>0.823</td>\n",
       "      <td>0.177</td>\n",
       "      <td>-0.3400</td>\n",
       "      <td>0.000</td>\n",
       "      <td>0.806</td>\n",
       "      <td>0.194</td>\n",
       "    </tr>\n",
       "    <tr>\n",
       "      <th>4</th>\n",
       "      <td>2008-08-14</td>\n",
       "      <td>1</td>\n",
       "      <td>b'All the experts admit that we should legalis...</td>\n",
       "      <td>b'War in South Osetia - 89 pictures made by a ...</td>\n",
       "      <td>b'Swedish wrestler Ara Abrahamian throws away ...</td>\n",
       "      <td>b'Russia exaggerated the death toll in South O...</td>\n",
       "      <td>b'Missile That Killed 9 Inside Pakistan May Ha...</td>\n",
       "      <td>b\"Rushdie Condemns Random House's Refusal to P...</td>\n",
       "      <td>b'Poland and US agree to missle defense deal. ...</td>\n",
       "      <td>b'Will the Russians conquer Tblisi? Bet on it,...</td>\n",
       "      <td>...</td>\n",
       "      <td>0.571</td>\n",
       "      <td>0.181</td>\n",
       "      <td>-0.6908</td>\n",
       "      <td>0.000</td>\n",
       "      <td>0.427</td>\n",
       "      <td>0.573</td>\n",
       "      <td>0.7096</td>\n",
       "      <td>0.349</td>\n",
       "      <td>0.651</td>\n",
       "      <td>0.000</td>\n",
       "    </tr>\n",
       "  </tbody>\n",
       "</table>\n",
       "<p>5 rows × 128 columns</p>\n",
       "</div>"
      ],
      "text/plain": [
       "        Date  Label                                               Top1  \\\n",
       "0 2008-08-08      0  b\"Georgia 'downs two Russian warplanes' as cou...   \n",
       "1 2008-08-11      1  b'Why wont America and Nato help us? If they w...   \n",
       "2 2008-08-12      0  b'Remember that adorable 9-year-old who sang a...   \n",
       "3 2008-08-13      0  b' U.S. refuses Israel weapons to attack Iran:...   \n",
       "4 2008-08-14      1  b'All the experts admit that we should legalis...   \n",
       "\n",
       "                                                Top2  \\\n",
       "0            b'BREAKING: Musharraf to be impeached.'   \n",
       "1        b'Bush puts foot down on Georgian conflict'   \n",
       "2                 b\"Russia 'ends Georgia operation'\"   \n",
       "3  b\"When the president ordered to attack Tskhinv...   \n",
       "4  b'War in South Osetia - 89 pictures made by a ...   \n",
       "\n",
       "                                                Top3  \\\n",
       "0  b'Russia Today: Columns of troops roll into So...   \n",
       "1  b\"Jewish Georgian minister: Thanks to Israeli ...   \n",
       "2  b'\"If we had no sexual harassment we would hav...   \n",
       "3  b' Israel clears troops who killed Reuters cam...   \n",
       "4  b'Swedish wrestler Ara Abrahamian throws away ...   \n",
       "\n",
       "                                                Top4  \\\n",
       "0  b'Russian tanks are moving towards the capital...   \n",
       "1  b'Georgian army flees in disarray as Russians ...   \n",
       "2  b\"Al-Qa'eda is losing support in Iraq because ...   \n",
       "3  b'Britain\\'s policy of being tough on drugs is...   \n",
       "4  b'Russia exaggerated the death toll in South O...   \n",
       "\n",
       "                                                Top5  \\\n",
       "0  b\"Afghan children raped with 'impunity,' U.N. ...   \n",
       "1      b\"Olympic opening ceremony fireworks 'faked'\"   \n",
       "2  b'Ceasefire in Georgia: Putin Outmaneuvers the...   \n",
       "3  b'Body of 14 year old found in trunk; Latest (...   \n",
       "4  b'Missile That Killed 9 Inside Pakistan May Ha...   \n",
       "\n",
       "                                                Top6  \\\n",
       "0  b'150 Russian tanks have entered South Ossetia...   \n",
       "1  b'What were the Mossad with fraudulent New Zea...   \n",
       "2  b'Why Microsoft and Intel tried to kill the XO...   \n",
       "3  b'China has moved 10 *million* quake survivors...   \n",
       "4  b\"Rushdie Condemns Random House's Refusal to P...   \n",
       "\n",
       "                                                Top7  \\\n",
       "0  b\"Breaking: Georgia invades South Ossetia, Rus...   \n",
       "1  b'Russia angered by Israeli military sale to G...   \n",
       "2  b'Stratfor: The Russo-Georgian War and the Bal...   \n",
       "3  b\"Bush announces Operation Get All Up In Russi...   \n",
       "4  b'Poland and US agree to missle defense deal. ...   \n",
       "\n",
       "                                                Top8      ...        \\\n",
       "0  b\"The 'enemy combatent' trials are nothing but...      ...         \n",
       "1  b'An American citizen living in S.Ossetia blam...      ...         \n",
       "2  b\"I'm Trying to Get a Sense of This Whole Geor...      ...         \n",
       "3             b'Russian forces sink Georgian ships '      ...         \n",
       "4  b'Will the Russians conquer Tblisi? Bet on it,...      ...         \n",
       "\n",
       "  Top23 neutral Top23 negative Top24 CompoundValue Top24 positive  \\\n",
       "0         0.860          0.140             -0.8519          0.000   \n",
       "1         0.753          0.247             -0.1832          0.263   \n",
       "2         0.785          0.074              0.0000          0.000   \n",
       "3         0.598          0.402             -0.4215          0.000   \n",
       "4         0.571          0.181             -0.6908          0.000   \n",
       "\n",
       "  Top24 neutral Top24 negative Top25 CompoundValue Top25 positive  \\\n",
       "0         0.350          0.650              0.4019          0.351   \n",
       "1         0.414          0.323              0.0000          0.000   \n",
       "2         1.000          0.000              0.0000          0.000   \n",
       "3         0.823          0.177             -0.3400          0.000   \n",
       "4         0.427          0.573              0.7096          0.349   \n",
       "\n",
       "  Top25 neutral Top25 negative  \n",
       "0         0.649          0.000  \n",
       "1         1.000          0.000  \n",
       "2         1.000          0.000  \n",
       "3         0.806          0.194  \n",
       "4         0.651          0.000  \n",
       "\n",
       "[5 rows x 128 columns]"
      ]
     },
     "execution_count": 4,
     "metadata": {},
     "output_type": "execute_result"
    }
   ],
   "source": [
    "data = pd.read_csv('combined with sentiment.csv', parse_dates=[0])\n",
    "data.head()"
   ]
  },
  {
   "cell_type": "code",
   "execution_count": 5,
   "metadata": {},
   "outputs": [
    {
     "data": {
      "text/html": [
       "<div>\n",
       "<style scoped>\n",
       "    .dataframe tbody tr th:only-of-type {\n",
       "        vertical-align: middle;\n",
       "    }\n",
       "\n",
       "    .dataframe tbody tr th {\n",
       "        vertical-align: top;\n",
       "    }\n",
       "\n",
       "    .dataframe thead th {\n",
       "        text-align: right;\n",
       "    }\n",
       "</style>\n",
       "<table border=\"1\" class=\"dataframe\">\n",
       "  <thead>\n",
       "    <tr style=\"text-align: right;\">\n",
       "      <th></th>\n",
       "      <th>Date</th>\n",
       "      <th>Label</th>\n",
       "      <th>Top1 CompoundValue</th>\n",
       "      <th>Top2 CompoundValue</th>\n",
       "      <th>Top3 CompoundValue</th>\n",
       "      <th>Top4 CompoundValue</th>\n",
       "      <th>Top5 CompoundValue</th>\n",
       "      <th>Top6 CompoundValue</th>\n",
       "      <th>Top7 CompoundValue</th>\n",
       "      <th>Top8 CompoundValue</th>\n",
       "      <th>...</th>\n",
       "      <th>Top16 CompoundValue</th>\n",
       "      <th>Top17 CompoundValue</th>\n",
       "      <th>Top18 CompoundValue</th>\n",
       "      <th>Top19 CompoundValue</th>\n",
       "      <th>Top20 CompoundValue</th>\n",
       "      <th>Top21 CompoundValue</th>\n",
       "      <th>Top22 CompoundValue</th>\n",
       "      <th>Top23 CompoundValue</th>\n",
       "      <th>Top24 CompoundValue</th>\n",
       "      <th>Top25 CompoundValue</th>\n",
       "    </tr>\n",
       "  </thead>\n",
       "  <tbody>\n",
       "    <tr>\n",
       "      <th>0</th>\n",
       "      <td>2008-08-08</td>\n",
       "      <td>0</td>\n",
       "      <td>-0.5994</td>\n",
       "      <td>0.0000</td>\n",
       "      <td>-0.3612</td>\n",
       "      <td>-0.7089</td>\n",
       "      <td>-0.9260</td>\n",
       "      <td>0.0000</td>\n",
       "      <td>-0.2732</td>\n",
       "      <td>0.2144</td>\n",
       "      <td>...</td>\n",
       "      <td>0.0000</td>\n",
       "      <td>0.0</td>\n",
       "      <td>0.2086</td>\n",
       "      <td>0.2023</td>\n",
       "      <td>0.0258</td>\n",
       "      <td>-0.7579</td>\n",
       "      <td>-0.6249</td>\n",
       "      <td>-0.2755</td>\n",
       "      <td>-0.8519</td>\n",
       "      <td>0.4019</td>\n",
       "    </tr>\n",
       "    <tr>\n",
       "      <th>1</th>\n",
       "      <td>2008-08-11</td>\n",
       "      <td>1</td>\n",
       "      <td>0.8156</td>\n",
       "      <td>-0.3182</td>\n",
       "      <td>0.4404</td>\n",
       "      <td>-0.1965</td>\n",
       "      <td>0.0000</td>\n",
       "      <td>-0.4939</td>\n",
       "      <td>-0.5106</td>\n",
       "      <td>-0.0772</td>\n",
       "      <td>...</td>\n",
       "      <td>0.0000</td>\n",
       "      <td>0.0</td>\n",
       "      <td>-0.6597</td>\n",
       "      <td>0.0000</td>\n",
       "      <td>0.0000</td>\n",
       "      <td>-0.8020</td>\n",
       "      <td>0.0000</td>\n",
       "      <td>-0.3182</td>\n",
       "      <td>-0.1832</td>\n",
       "      <td>0.0000</td>\n",
       "    </tr>\n",
       "    <tr>\n",
       "      <th>2</th>\n",
       "      <td>2008-08-12</td>\n",
       "      <td>0</td>\n",
       "      <td>0.0258</td>\n",
       "      <td>0.0000</td>\n",
       "      <td>-0.7845</td>\n",
       "      <td>-0.6124</td>\n",
       "      <td>0.0000</td>\n",
       "      <td>-0.6908</td>\n",
       "      <td>-0.5994</td>\n",
       "      <td>-0.5994</td>\n",
       "      <td>...</td>\n",
       "      <td>0.0000</td>\n",
       "      <td>0.0</td>\n",
       "      <td>0.0772</td>\n",
       "      <td>-0.5994</td>\n",
       "      <td>-0.5859</td>\n",
       "      <td>0.0000</td>\n",
       "      <td>0.5267</td>\n",
       "      <td>0.3818</td>\n",
       "      <td>0.0000</td>\n",
       "      <td>0.0000</td>\n",
       "    </tr>\n",
       "    <tr>\n",
       "      <th>3</th>\n",
       "      <td>2008-08-13</td>\n",
       "      <td>0</td>\n",
       "      <td>-0.7184</td>\n",
       "      <td>-0.8074</td>\n",
       "      <td>-0.6369</td>\n",
       "      <td>-0.1280</td>\n",
       "      <td>-0.5106</td>\n",
       "      <td>0.0000</td>\n",
       "      <td>0.2960</td>\n",
       "      <td>0.0000</td>\n",
       "      <td>...</td>\n",
       "      <td>0.0000</td>\n",
       "      <td>0.0</td>\n",
       "      <td>0.0000</td>\n",
       "      <td>-0.5423</td>\n",
       "      <td>-0.0258</td>\n",
       "      <td>-0.2960</td>\n",
       "      <td>0.4939</td>\n",
       "      <td>-0.5719</td>\n",
       "      <td>-0.4215</td>\n",
       "      <td>-0.3400</td>\n",
       "    </tr>\n",
       "    <tr>\n",
       "      <th>4</th>\n",
       "      <td>2008-08-14</td>\n",
       "      <td>1</td>\n",
       "      <td>0.2023</td>\n",
       "      <td>0.0000</td>\n",
       "      <td>0.6808</td>\n",
       "      <td>-0.8689</td>\n",
       "      <td>-0.6124</td>\n",
       "      <td>-0.6369</td>\n",
       "      <td>0.7177</td>\n",
       "      <td>-0.4404</td>\n",
       "      <td>...</td>\n",
       "      <td>-0.6249</td>\n",
       "      <td>0.0</td>\n",
       "      <td>0.0000</td>\n",
       "      <td>0.0000</td>\n",
       "      <td>0.0000</td>\n",
       "      <td>-0.4404</td>\n",
       "      <td>-0.5994</td>\n",
       "      <td>0.1779</td>\n",
       "      <td>-0.6908</td>\n",
       "      <td>0.7096</td>\n",
       "    </tr>\n",
       "  </tbody>\n",
       "</table>\n",
       "<p>5 rows × 27 columns</p>\n",
       "</div>"
      ],
      "text/plain": [
       "        Date  Label  Top1 CompoundValue  Top2 CompoundValue  \\\n",
       "0 2008-08-08      0             -0.5994              0.0000   \n",
       "1 2008-08-11      1              0.8156             -0.3182   \n",
       "2 2008-08-12      0              0.0258              0.0000   \n",
       "3 2008-08-13      0             -0.7184             -0.8074   \n",
       "4 2008-08-14      1              0.2023              0.0000   \n",
       "\n",
       "   Top3 CompoundValue  Top4 CompoundValue  Top5 CompoundValue  \\\n",
       "0             -0.3612             -0.7089             -0.9260   \n",
       "1              0.4404             -0.1965              0.0000   \n",
       "2             -0.7845             -0.6124              0.0000   \n",
       "3             -0.6369             -0.1280             -0.5106   \n",
       "4              0.6808             -0.8689             -0.6124   \n",
       "\n",
       "   Top6 CompoundValue  Top7 CompoundValue  Top8 CompoundValue  \\\n",
       "0              0.0000             -0.2732              0.2144   \n",
       "1             -0.4939             -0.5106             -0.0772   \n",
       "2             -0.6908             -0.5994             -0.5994   \n",
       "3              0.0000              0.2960              0.0000   \n",
       "4             -0.6369              0.7177             -0.4404   \n",
       "\n",
       "          ...           Top16 CompoundValue  Top17 CompoundValue  \\\n",
       "0         ...                        0.0000                  0.0   \n",
       "1         ...                        0.0000                  0.0   \n",
       "2         ...                        0.0000                  0.0   \n",
       "3         ...                        0.0000                  0.0   \n",
       "4         ...                       -0.6249                  0.0   \n",
       "\n",
       "   Top18 CompoundValue  Top19 CompoundValue  Top20 CompoundValue  \\\n",
       "0               0.2086               0.2023               0.0258   \n",
       "1              -0.6597               0.0000               0.0000   \n",
       "2               0.0772              -0.5994              -0.5859   \n",
       "3               0.0000              -0.5423              -0.0258   \n",
       "4               0.0000               0.0000               0.0000   \n",
       "\n",
       "   Top21 CompoundValue  Top22 CompoundValue  Top23 CompoundValue  \\\n",
       "0              -0.7579              -0.6249              -0.2755   \n",
       "1              -0.8020               0.0000              -0.3182   \n",
       "2               0.0000               0.5267               0.3818   \n",
       "3              -0.2960               0.4939              -0.5719   \n",
       "4              -0.4404              -0.5994               0.1779   \n",
       "\n",
       "   Top24 CompoundValue  Top25 CompoundValue  \n",
       "0              -0.8519               0.4019  \n",
       "1              -0.1832               0.0000  \n",
       "2               0.0000               0.0000  \n",
       "3              -0.4215              -0.3400  \n",
       "4              -0.6908               0.7096  \n",
       "\n",
       "[5 rows x 27 columns]"
      ]
     },
     "execution_count": 5,
     "metadata": {},
     "output_type": "execute_result"
    }
   ],
   "source": [
    "#extracting date, label, and Compound sentiment scores\n",
    "first = data.loc[ : , ['Date', 'Label'] ]\n",
    "first\n",
    "cols = data.filter(regex=(\"CompoundValue\"))\n",
    "cols.head()\n",
    "sentiment_data = first.merge(cols, how='inner', left_index = True, right_index=True)\n",
    "sentiment_data.head()"
   ]
  },
  {
   "cell_type": "code",
   "execution_count": 6,
   "metadata": {},
   "outputs": [
    {
     "data": {
      "text/html": [
       "<div>\n",
       "<style scoped>\n",
       "    .dataframe tbody tr th:only-of-type {\n",
       "        vertical-align: middle;\n",
       "    }\n",
       "\n",
       "    .dataframe tbody tr th {\n",
       "        vertical-align: top;\n",
       "    }\n",
       "\n",
       "    .dataframe thead th {\n",
       "        text-align: right;\n",
       "    }\n",
       "</style>\n",
       "<table border=\"1\" class=\"dataframe\">\n",
       "  <thead>\n",
       "    <tr style=\"text-align: right;\">\n",
       "      <th></th>\n",
       "      <th>Date</th>\n",
       "      <th>Top1 CompoundValue</th>\n",
       "      <th>Top2 CompoundValue</th>\n",
       "      <th>Top3 CompoundValue</th>\n",
       "      <th>Top4 CompoundValue</th>\n",
       "      <th>Top5 CompoundValue</th>\n",
       "      <th>Top6 CompoundValue</th>\n",
       "      <th>Top7 CompoundValue</th>\n",
       "      <th>Top8 CompoundValue</th>\n",
       "      <th>Top9 CompoundValue</th>\n",
       "      <th>...</th>\n",
       "      <th>Top17 CompoundValue</th>\n",
       "      <th>Top18 CompoundValue</th>\n",
       "      <th>Top19 CompoundValue</th>\n",
       "      <th>Top20 CompoundValue</th>\n",
       "      <th>Top21 CompoundValue</th>\n",
       "      <th>Top22 CompoundValue</th>\n",
       "      <th>Top23 CompoundValue</th>\n",
       "      <th>Top24 CompoundValue</th>\n",
       "      <th>Top25 CompoundValue</th>\n",
       "      <th>Label</th>\n",
       "    </tr>\n",
       "  </thead>\n",
       "  <tbody>\n",
       "    <tr>\n",
       "      <th>0</th>\n",
       "      <td>2008-08-08</td>\n",
       "      <td>-0.5994</td>\n",
       "      <td>0.0000</td>\n",
       "      <td>-0.3612</td>\n",
       "      <td>-0.7089</td>\n",
       "      <td>-0.9260</td>\n",
       "      <td>0.0000</td>\n",
       "      <td>-0.2732</td>\n",
       "      <td>0.2144</td>\n",
       "      <td>-0.5719</td>\n",
       "      <td>...</td>\n",
       "      <td>0.0</td>\n",
       "      <td>0.2086</td>\n",
       "      <td>0.2023</td>\n",
       "      <td>0.0258</td>\n",
       "      <td>-0.7579</td>\n",
       "      <td>-0.6249</td>\n",
       "      <td>-0.2755</td>\n",
       "      <td>-0.8519</td>\n",
       "      <td>0.4019</td>\n",
       "      <td>0</td>\n",
       "    </tr>\n",
       "    <tr>\n",
       "      <th>1</th>\n",
       "      <td>2008-08-11</td>\n",
       "      <td>0.8156</td>\n",
       "      <td>-0.3182</td>\n",
       "      <td>0.4404</td>\n",
       "      <td>-0.1965</td>\n",
       "      <td>0.0000</td>\n",
       "      <td>-0.4939</td>\n",
       "      <td>-0.5106</td>\n",
       "      <td>-0.0772</td>\n",
       "      <td>-0.6688</td>\n",
       "      <td>...</td>\n",
       "      <td>0.0</td>\n",
       "      <td>-0.6597</td>\n",
       "      <td>0.0000</td>\n",
       "      <td>0.0000</td>\n",
       "      <td>-0.8020</td>\n",
       "      <td>0.0000</td>\n",
       "      <td>-0.3182</td>\n",
       "      <td>-0.1832</td>\n",
       "      <td>0.0000</td>\n",
       "      <td>1</td>\n",
       "    </tr>\n",
       "    <tr>\n",
       "      <th>2</th>\n",
       "      <td>2008-08-12</td>\n",
       "      <td>0.0258</td>\n",
       "      <td>0.0000</td>\n",
       "      <td>-0.7845</td>\n",
       "      <td>-0.6124</td>\n",
       "      <td>0.0000</td>\n",
       "      <td>-0.6908</td>\n",
       "      <td>-0.5994</td>\n",
       "      <td>-0.5994</td>\n",
       "      <td>0.3400</td>\n",
       "      <td>...</td>\n",
       "      <td>0.0</td>\n",
       "      <td>0.0772</td>\n",
       "      <td>-0.5994</td>\n",
       "      <td>-0.5859</td>\n",
       "      <td>0.0000</td>\n",
       "      <td>0.5267</td>\n",
       "      <td>0.3818</td>\n",
       "      <td>0.0000</td>\n",
       "      <td>0.0000</td>\n",
       "      <td>0</td>\n",
       "    </tr>\n",
       "    <tr>\n",
       "      <th>3</th>\n",
       "      <td>2008-08-13</td>\n",
       "      <td>-0.7184</td>\n",
       "      <td>-0.8074</td>\n",
       "      <td>-0.6369</td>\n",
       "      <td>-0.1280</td>\n",
       "      <td>-0.5106</td>\n",
       "      <td>0.0000</td>\n",
       "      <td>0.2960</td>\n",
       "      <td>0.0000</td>\n",
       "      <td>0.3612</td>\n",
       "      <td>...</td>\n",
       "      <td>0.0</td>\n",
       "      <td>0.0000</td>\n",
       "      <td>-0.5423</td>\n",
       "      <td>-0.0258</td>\n",
       "      <td>-0.2960</td>\n",
       "      <td>0.4939</td>\n",
       "      <td>-0.5719</td>\n",
       "      <td>-0.4215</td>\n",
       "      <td>-0.3400</td>\n",
       "      <td>0</td>\n",
       "    </tr>\n",
       "    <tr>\n",
       "      <th>4</th>\n",
       "      <td>2008-08-14</td>\n",
       "      <td>0.2023</td>\n",
       "      <td>0.0000</td>\n",
       "      <td>0.6808</td>\n",
       "      <td>-0.8689</td>\n",
       "      <td>-0.6124</td>\n",
       "      <td>-0.6369</td>\n",
       "      <td>0.7177</td>\n",
       "      <td>-0.4404</td>\n",
       "      <td>-0.6808</td>\n",
       "      <td>...</td>\n",
       "      <td>0.0</td>\n",
       "      <td>0.0000</td>\n",
       "      <td>0.0000</td>\n",
       "      <td>0.0000</td>\n",
       "      <td>-0.4404</td>\n",
       "      <td>-0.5994</td>\n",
       "      <td>0.1779</td>\n",
       "      <td>-0.6908</td>\n",
       "      <td>0.7096</td>\n",
       "      <td>1</td>\n",
       "    </tr>\n",
       "  </tbody>\n",
       "</table>\n",
       "<p>5 rows × 27 columns</p>\n",
       "</div>"
      ],
      "text/plain": [
       "        Date  Top1 CompoundValue  Top2 CompoundValue  Top3 CompoundValue  \\\n",
       "0 2008-08-08             -0.5994              0.0000             -0.3612   \n",
       "1 2008-08-11              0.8156             -0.3182              0.4404   \n",
       "2 2008-08-12              0.0258              0.0000             -0.7845   \n",
       "3 2008-08-13             -0.7184             -0.8074             -0.6369   \n",
       "4 2008-08-14              0.2023              0.0000              0.6808   \n",
       "\n",
       "   Top4 CompoundValue  Top5 CompoundValue  Top6 CompoundValue  \\\n",
       "0             -0.7089             -0.9260              0.0000   \n",
       "1             -0.1965              0.0000             -0.4939   \n",
       "2             -0.6124              0.0000             -0.6908   \n",
       "3             -0.1280             -0.5106              0.0000   \n",
       "4             -0.8689             -0.6124             -0.6369   \n",
       "\n",
       "   Top7 CompoundValue  Top8 CompoundValue  Top9 CompoundValue  ...    \\\n",
       "0             -0.2732              0.2144             -0.5719  ...     \n",
       "1             -0.5106             -0.0772             -0.6688  ...     \n",
       "2             -0.5994             -0.5994              0.3400  ...     \n",
       "3              0.2960              0.0000              0.3612  ...     \n",
       "4              0.7177             -0.4404             -0.6808  ...     \n",
       "\n",
       "   Top17 CompoundValue  Top18 CompoundValue  Top19 CompoundValue  \\\n",
       "0                  0.0               0.2086               0.2023   \n",
       "1                  0.0              -0.6597               0.0000   \n",
       "2                  0.0               0.0772              -0.5994   \n",
       "3                  0.0               0.0000              -0.5423   \n",
       "4                  0.0               0.0000               0.0000   \n",
       "\n",
       "   Top20 CompoundValue  Top21 CompoundValue  Top22 CompoundValue  \\\n",
       "0               0.0258              -0.7579              -0.6249   \n",
       "1               0.0000              -0.8020               0.0000   \n",
       "2              -0.5859               0.0000               0.5267   \n",
       "3              -0.0258              -0.2960               0.4939   \n",
       "4               0.0000              -0.4404              -0.5994   \n",
       "\n",
       "   Top23 CompoundValue  Top24 CompoundValue  Top25 CompoundValue  Label  \n",
       "0              -0.2755              -0.8519               0.4019      0  \n",
       "1              -0.3182              -0.1832               0.0000      1  \n",
       "2               0.3818               0.0000               0.0000      0  \n",
       "3              -0.5719              -0.4215              -0.3400      0  \n",
       "4               0.1779              -0.6908               0.7096      1  \n",
       "\n",
       "[5 rows x 27 columns]"
      ]
     },
     "execution_count": 6,
     "metadata": {},
     "output_type": "execute_result"
    }
   ],
   "source": [
    "# Push the Label column to the end of the dataframe\n",
    "cols = list(sentiment_data)\n",
    "#print(cols)\n",
    "cols.append(cols.pop(cols.index('Label')))\n",
    "sentiment_data = sentiment_data.loc[:, cols]\n",
    "sentiment_data.head()"
   ]
  },
  {
   "cell_type": "code",
   "execution_count": 7,
   "metadata": {},
   "outputs": [],
   "source": [
    "# Create a dataframe by merging the headlines, sentiment scores and the stock prices dataframes\n",
    "merged_df = pd.merge(stock_data, sentiment_data, on='Date', how='inner')\n",
    "\n",
    "# Check the shape and top 5 rows of the merged dataframe\n",
    "#print(merged_df.shape)\n",
    "#merged_df.head()"
   ]
  },
  {
   "cell_type": "code",
   "execution_count": 8,
   "metadata": {},
   "outputs": [],
   "source": [
    "# Change the datatype of the volume column to float\n",
    "\n",
    "merged_df['Volume'] = merged_df['Volume'].astype(float)\n",
    "merged_df.index = merged_df.index.sort_values()\n",
    "#merged_df.head()"
   ]
  },
  {
   "cell_type": "code",
   "execution_count": 9,
   "metadata": {},
   "outputs": [],
   "source": [
    "corr_matrix = merged_df.corr()"
   ]
  },
  {
   "cell_type": "code",
   "execution_count": 10,
   "metadata": {},
   "outputs": [
    {
     "data": {
      "text/plain": [
       "Label                  1.000000\n",
       "start_trend            0.259457\n",
       "Top19 CompoundValue    0.037685\n",
       "Top13 CompoundValue    0.035115\n",
       "Top3 CompoundValue     0.033433\n",
       "Top15 CompoundValue    0.033031\n",
       "Top9 CompoundValue     0.027819\n",
       "Top8 CompoundValue     0.024837\n",
       "Close                  0.016811\n",
       "Adj Close              0.016811\n",
       "Top1 CompoundValue     0.016436\n",
       "Top2 CompoundValue     0.010949\n",
       "Top6 CompoundValue     0.010780\n",
       "Top18 CompoundValue    0.008383\n",
       "Top12 CompoundValue    0.007883\n",
       "Top24 CompoundValue    0.007863\n",
       "Top23 CompoundValue    0.006354\n",
       "Low                    0.004600\n",
       "Top10 CompoundValue    0.004511\n",
       "Top14 CompoundValue    0.002432\n",
       "Top5 CompoundValue     0.001359\n",
       "High                   0.000685\n",
       "Top11 CompoundValue   -0.001757\n",
       "Top20 CompoundValue   -0.003243\n",
       "Top21 CompoundValue   -0.005632\n",
       "Top7 CompoundValue    -0.005840\n",
       "Top4 CompoundValue    -0.008716\n",
       "Top16 CompoundValue   -0.012309\n",
       "Open                  -0.014490\n",
       "Top22 CompoundValue   -0.014968\n",
       "Top25 CompoundValue   -0.035466\n",
       "Top17 CompoundValue   -0.036716\n",
       "Volume                -0.051673\n",
       "Name: Label, dtype: float64"
      ]
     },
     "execution_count": 10,
     "metadata": {},
     "output_type": "execute_result"
    }
   ],
   "source": [
    "corr_matrix['Label'].sort_values(ascending = False)"
   ]
  },
  {
   "cell_type": "markdown",
   "metadata": {},
   "source": [
    "start_trend = (Closing Value of Previous day stock market - Opening Value of current day stock market) 'start_trend' value is a binary variable with values: 1 = positive trend 0 = negative trend\n",
    "\n",
    "The corelation matrix shows that the start_trend value is the most important predictor of the target variable followed by the sentiment value(compound value) of the Top19, Top13, Top3, Top15, Top9, Top8,Top1, Top2, Top6 headlines and Close, Adj Close values."
   ]
  },
  {
   "cell_type": "code",
   "execution_count": 11,
   "metadata": {},
   "outputs": [],
   "source": [
    "X, y = merged_df.iloc[:,:-1],merged_df.iloc[:,-1]"
   ]
  },
  {
   "cell_type": "markdown",
   "metadata": {},
   "source": [
    "We will split this dataset into 80% train and 20% test. As this is a time series, we are not randomly picking the training and testing samples. The model will be trained using the train set, model hyperparameters will be tuned and finally the performance of the model will be reported using the test set. "
   ]
  },
  {
   "cell_type": "code",
   "execution_count": 12,
   "metadata": {},
   "outputs": [
    {
     "name": "stdout",
     "output_type": "stream",
     "text": [
      "1989\n",
      "1591\n"
     ]
    }
   ],
   "source": [
    "# Split the dataset to test and train sets\n",
    "# Split the initial 80% of the data as training set and the remaining 20% data as the testing set\n",
    "train_size = int(len(X.index) * 0.8)\n",
    "print(len(y))\n",
    "print(train_size)\n",
    "X_train = X.iloc[:train_size]\n",
    "X_test = X.iloc[train_size:]\n",
    " \n",
    "y_train = y.iloc[:train_size]\n",
    "y_test = y.iloc[train_size:]\n"
   ]
  },
  {
   "cell_type": "code",
   "execution_count": 13,
   "metadata": {},
   "outputs": [
    {
     "name": "stdout",
     "output_type": "stream",
     "text": [
      "(1591, 33)\n",
      "(398, 33)\n"
     ]
    }
   ],
   "source": [
    "print(X_train.shape)\n",
    "print(X_test.shape)"
   ]
  },
  {
   "cell_type": "code",
   "execution_count": 14,
   "metadata": {},
   "outputs": [
    {
     "name": "stdout",
     "output_type": "stream",
     "text": [
      "(1591,)\n",
      "(398,)\n"
     ]
    }
   ],
   "source": [
    "print(y_train.shape)\n",
    "print(y_test.shape)"
   ]
  },
  {
   "cell_type": "code",
   "execution_count": 15,
   "metadata": {},
   "outputs": [
    {
     "data": {
      "text/plain": [
       "[<matplotlib.lines.Line2D at 0x2591d127c88>]"
      ]
     },
     "execution_count": 15,
     "metadata": {},
     "output_type": "execute_result"
    },
    {
     "data": {
      "image/png": "[encoded data removed]",
      "text/plain": [
       "<Figure size 432x288 with 1 Axes>"
      ]
     },
     "metadata": {
      "needs_background": "light"
     },
     "output_type": "display_data"
    }
   ],
   "source": [
    "#Below plot shows the opening price split up into the respective train and test sets.\n",
    "plt.plot(X_train['Open'])\n",
    "plt.plot([None for i in X_train['Open']] + [x for x in X_test['Open']])\n"
   ]
  },
  {
   "cell_type": "code",
   "execution_count": 16,
   "metadata": {},
   "outputs": [],
   "source": [
    "X_train=X_train.drop(['Date'],axis=1)\n",
    "X_test=X_test.drop(['Date'],axis=1)"
   ]
  },
  {
   "cell_type": "markdown",
   "metadata": {},
   "source": [
    "Stochastic Gradient Descent Classifier"
   ]
  },
  {
   "cell_type": "code",
   "execution_count": 17,
   "metadata": {},
   "outputs": [],
   "source": [
    "from sklearn.linear_model import SGDClassifier\n",
    "sgd_clf = SGDClassifier(random_state = 42)"
   ]
  },
  {
   "cell_type": "code",
   "execution_count": 18,
   "metadata": {},
   "outputs": [
    {
     "name": "stderr",
     "output_type": "stream",
     "text": [
      "C:\\Users\\arupatil\\Anaconda3\\lib\\site-packages\\sklearn\\linear_model\\stochastic_gradient.py:166: FutureWarning: max_iter and tol parameters have been added in SGDClassifier in 0.19. If both are left unset, they default to max_iter=5 and tol=None. If tol is not None, max_iter defaults to max_iter=1000. From 0.21, default max_iter will be 1000, and default tol will be 1e-3.\n",
      "  FutureWarning)\n"
     ]
    },
    {
     "data": {
      "text/plain": [
       "SGDClassifier(alpha=0.0001, average=False, class_weight=None,\n",
       "       early_stopping=False, epsilon=0.1, eta0=0.0, fit_intercept=True,\n",
       "       l1_ratio=0.15, learning_rate='optimal', loss='hinge', max_iter=None,\n",
       "       n_iter=None, n_iter_no_change=5, n_jobs=None, penalty='l2',\n",
       "       power_t=0.5, random_state=42, shuffle=True, tol=None,\n",
       "       validation_fraction=0.1, verbose=0, warm_start=False)"
      ]
     },
     "execution_count": 18,
     "metadata": {},
     "output_type": "execute_result"
    }
   ],
   "source": [
    "sgd_clf.fit(X_train, y_train)"
   ]
  },
  {
   "cell_type": "code",
   "execution_count": 21,
   "metadata": {},
   "outputs": [],
   "source": [
    "y_pred1 = sgd_clf.predict(X_test)"
   ]
  },
  {
   "cell_type": "code",
   "execution_count": 22,
   "metadata": {},
   "outputs": [
    {
     "name": "stdout",
     "output_type": "stream",
     "text": [
      "Accuracy: 49.25%\n"
     ]
    }
   ],
   "source": [
    "y_pred1 = [round(value) for value in y_pred1]\n",
    "accuracy = accuracy_score(y_test, y_pred1)\n",
    "print(\"Accuracy: %.2f%%\" % (accuracy * 100.0))"
   ]
  },
  {
   "cell_type": "markdown",
   "metadata": {},
   "source": [
    "XG Boost Classifier"
   ]
  },
  {
   "cell_type": "code",
   "execution_count": 23,
   "metadata": {},
   "outputs": [],
   "source": [
    "#Baseline model\n",
    "xgb1 = xgb.XGBClassifier()"
   ]
  },
  {
   "cell_type": "code",
   "execution_count": 24,
   "metadata": {},
   "outputs": [
    {
     "data": {
      "text/plain": [
       "XGBClassifier(base_score=0.5, booster='gbtree', colsample_bylevel=1,\n",
       "       colsample_bytree=1, gamma=0, learning_rate=0.1, max_delta_step=0,\n",
       "       max_depth=3, min_child_weight=1, missing=None, n_estimators=100,\n",
       "       n_jobs=1, nthread=None, objective='binary:logistic', random_state=0,\n",
       "       reg_alpha=0, reg_lambda=1, scale_pos_weight=1, seed=None,\n",
       "       silent=True, subsample=1)"
      ]
     },
     "execution_count": 24,
     "metadata": {},
     "output_type": "execute_result"
    }
   ],
   "source": [
    "xgb1.fit(X_train, y_train)"
   ]
  },
  {
   "cell_type": "code",
   "execution_count": 25,
   "metadata": {},
   "outputs": [],
   "source": [
    "y_pred2 = xgb1.predict(X_test)"
   ]
  },
  {
   "cell_type": "code",
   "execution_count": 26,
   "metadata": {},
   "outputs": [
    {
     "name": "stdout",
     "output_type": "stream",
     "text": [
      "Accuracy: 57.29%\n"
     ]
    }
   ],
   "source": [
    "y_pred2 = [round(value) for value in y_pred2]\n",
    "accuracy = accuracy_score(y_test, y_pred2)\n",
    "print(\"Accuracy: %.2f%%\" % (accuracy * 100.0))"
   ]
  },
  {
   "cell_type": "markdown",
   "metadata": {},
   "source": [
    "Fine Tuning XGBoost parameters"
   ]
  },
  {
   "cell_type": "code",
   "execution_count": 27,
   "metadata": {},
   "outputs": [
    {
     "name": "stdout",
     "output_type": "stream",
     "text": [
      "Accuracy: 60.55%\n"
     ]
    }
   ],
   "source": [
    "#Fix learning rate and number of estimators for tuning tree-based parameters\n",
    "xgb2 = XGBClassifier(\n",
    " learning_rate =0.1,\n",
    " n_estimators=1000,\n",
    " max_depth=5,\n",
    " min_child_weight=1,\n",
    " gamma=0,\n",
    " subsample=0.8,\n",
    " colsample_bytree=0.8,\n",
    " objective= 'binary:logistic',\n",
    " nthread=4,\n",
    " scale_pos_weight=1,\n",
    " seed=27)\n",
    "xgb2.fit(X_train, y_train)\n",
    "y_pred3 = xgb2.predict(X_test)\n",
    "y_pred3 = [round(value) for value in y_pred3]\n",
    "accuracy = accuracy_score(y_test, y_pred3)\n",
    "print(\"Accuracy: %.2f%%\" % (accuracy * 100.0))"
   ]
  },
  {
   "cell_type": "code",
   "execution_count": 28,
   "metadata": {},
   "outputs": [
    {
     "data": {
      "image/png": "[encoded data removed]",
      "text/plain": [
       "<Figure size 864x1296 with 1 Axes>"
      ]
     },
     "metadata": {
      "needs_background": "light"
     },
     "output_type": "display_data"
    }
   ],
   "source": [
    "#Plotting Feature importance for Xgboost model\n",
    "fig, ax = plt.subplots(figsize=(12,18))\n",
    "xgb.plot_importance(xgb2, max_num_features=50, height=0.8, ax=ax)\n",
    "plt.show()"
   ]
  },
  {
   "cell_type": "markdown",
   "metadata": {},
   "source": [
    "Random Forest Classifier"
   ]
  },
  {
   "cell_type": "code",
   "execution_count": 29,
   "metadata": {},
   "outputs": [],
   "source": [
    "from sklearn.ensemble import RandomForestClassifier\n",
    "forest_clf = RandomForestClassifier(random_state=42)"
   ]
  },
  {
   "cell_type": "code",
   "execution_count": 30,
   "metadata": {},
   "outputs": [
    {
     "name": "stderr",
     "output_type": "stream",
     "text": [
      "C:\\Users\\arupatil\\Anaconda3\\lib\\site-packages\\sklearn\\ensemble\\forest.py:246: FutureWarning: The default value of n_estimators will change from 10 in version 0.20 to 100 in 0.22.\n",
      "  \"10 in version 0.20 to 100 in 0.22.\", FutureWarning)\n"
     ]
    },
    {
     "data": {
      "text/plain": [
       "RandomForestClassifier(bootstrap=True, class_weight=None, criterion='gini',\n",
       "            max_depth=None, max_features='auto', max_leaf_nodes=None,\n",
       "            min_impurity_decrease=0.0, min_impurity_split=None,\n",
       "            min_samples_leaf=1, min_samples_split=2,\n",
       "            min_weight_fraction_leaf=0.0, n_estimators=10, n_jobs=None,\n",
       "            oob_score=False, random_state=42, verbose=0, warm_start=False)"
      ]
     },
     "execution_count": 30,
     "metadata": {},
     "output_type": "execute_result"
    }
   ],
   "source": [
    "forest_clf.fit(X_train, y_train)"
   ]
  },
  {
   "cell_type": "code",
   "execution_count": 31,
   "metadata": {},
   "outputs": [],
   "source": [
    "y_pred4 = forest_clf.predict(X_test)"
   ]
  },
  {
   "cell_type": "code",
   "execution_count": 32,
   "metadata": {},
   "outputs": [
    {
     "name": "stdout",
     "output_type": "stream",
     "text": [
      "Accuracy: 52.26%\n"
     ]
    }
   ],
   "source": [
    "y_pred4 = [round(value) for value in y_pred4]\n",
    "accuracy = accuracy_score(y_test, y_pred4)\n",
    "print(\"Accuracy: %.2f%%\" % (accuracy * 100.0))"
   ]
  },
  {
   "cell_type": "code",
   "execution_count": null,
   "metadata": {},
   "outputs": [],
   "source": []
  }
 ],
 "metadata": {
  "kernelspec": {
   "display_name": "Python 3",
   "language": "python",
   "name": "python3"
  },
  "language_info": {
   "codemirror_mode": {
    "name": "ipython",
    "version": 3
   },
   "file_extension": ".py",
   "mimetype": "text/x-python",
   "name": "python",
   "nbconvert_exporter": "python",
   "pygments_lexer": "ipython3",
   "version": "3.7.1"
  }
 },
 "nbformat": 4,
 "nbformat_minor": 2
}
